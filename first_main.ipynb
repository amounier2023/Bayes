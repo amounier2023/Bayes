{
 "cells": [
  {
   "cell_type": "code",
   "execution_count": 40,
   "metadata": {},
   "outputs": [],
   "source": [
    "import numpy as np\n",
    "import matplotlib.pyplot as plt\n",
    "import scipy.stats as stats\n",
    "\n",
    "import os\n",
    "os.environ['R_HOME'] = r'C:\\Program Files\\R\\R-4.4.3'\n",
    "os.environ['PATH'] += r';C:\\Program Files\\R\\R-4.4.3\\bin'\n",
    "import rpy2.robjects as robjects\n",
    "import rpy2.robjects as ro"
   ]
  },
  {
   "cell_type": "code",
   "execution_count": null,
   "metadata": {},
   "outputs": [
    {
     "name": "stdout",
     "output_type": "stream",
     "text": [
      "Le fichier existe : True\n",
      "[1] 30\n",
      "\n",
      "[1] 5\n",
      "\n",
      "[1]  8 15 22 29 36\n",
      "\n",
      "[[151. 199. 246. 283. 320.]\n",
      " [145. 199. 249. 293. 354.]\n",
      " [147. 214. 263. 312. 328.]\n",
      " [155. 200. 237. 272. 297.]\n",
      " [135. 188. 230. 280. 323.]\n",
      " [159. 210. 252. 298. 331.]\n",
      " [141. 189. 231. 275. 305.]\n",
      " [159. 201. 248. 297. 338.]\n",
      " [177. 236. 285. 350. 376.]\n",
      " [134. 182. 220. 260. 296.]\n",
      " [160. 208. 261. 313. 352.]\n",
      " [143. 188. 220. 273. 314.]\n",
      " [154. 200. 244. 289. 325.]\n",
      " [171. 221. 270. 326. 358.]\n",
      " [163. 216. 242. 281. 312.]\n",
      " [160. 207. 248. 288. 324.]\n",
      " [142. 187. 234. 280. 316.]\n",
      " [156. 203. 243. 283. 317.]\n",
      " [157. 212. 259. 307. 336.]\n",
      " [152. 203. 246. 286. 321.]\n",
      " [154. 205. 253. 298. 334.]\n",
      " [139. 190. 225. 267. 302.]\n",
      " [146. 191. 229. 272. 302.]\n",
      " [157. 211. 250. 285. 323.]\n",
      " [132. 185. 237. 286. 331.]\n",
      " [160. 207. 257. 303. 345.]\n",
      " [169. 216. 261. 295. 333.]\n",
      " [157. 205. 248. 289. 316.]\n",
      " [137. 180. 219. 258. 291.]\n",
      " [153. 200. 244. 286. 324.]]\n",
      "[1] 22\n",
      "\n"
     ]
    }
   ],
   "source": [
    "##Importation des données en python##\n",
    "file_path = \"C:\\\\Users\\\\jules\\\\OneDrive\\\\Documents\\\\MathsAppli\\\\PROJET BAYES\\\\Toutes les données\\\\Data\\\\vol1\\\\rats\\\\rats.data.R\"\n",
    "# Vérifier le chemin\n",
    "if os.path.exists(file_path):\n",
    "    print(\"Le fichier existe :\", os.path.exists(file_path))\n",
    "else:\n",
    "    print(\"Fichier introuvable :\", os.path.exists(file_path))\n",
    "\n",
    "#Charger et exécuter le script R\n",
    "robjects.r.source(file_path)\n",
    "\n",
    "#On récupère les objets du scripts\n",
    "N = robjects.r['N']\n",
    "T = robjects.r['T']\n",
    "x = robjects.r['x']\n",
    "y = np.array(ro.r.matrix(robjects.r['y'], nrow=30))\n",
    "xbar = robjects.r['xbar']\n",
    "\n",
    "print(N)\n",
    "print(T)\n",
    "print(x)\n",
    "print(y)\n",
    "print(xbar)"
   ]
  },
  {
   "cell_type": "code",
   "execution_count": 50,
   "metadata": {},
   "outputs": [],
   "source": [
    "data = {\n",
    "    \"nb_rats\": int(N[0]),\n",
    "    \"days\": x,\n",
    "    \"nb_days\": int(T[0]),\n",
    "    \"tab\" : y,\n",
    "    \"xbar\" : int(xbar[0])  \n",
    "}"
   ]
  },
  {
   "cell_type": "code",
   "execution_count": null,
   "metadata": {},
   "outputs": [],
   "source": [
    "def rats_Gibbs(nchain, data, hyper_prior, init) :\n",
    "    \n",
    "    #On récupère les données\n",
    "    nb_rats = data['nb_rats']\n",
    "    tab = data[\"tab\"]\n",
    "    days = data['days']\n",
    "    xbar = data['xbar']\n",
    "    nb_days = data['nb_days']\n",
    "\n",
    "    #On récupère les hyperparamètres\n",
    "    sigma_2_c = 1/hyper_prior[0]\n",
    "    alpha_c = hyper_prior[1]\n",
    "    sigma_2_alpha = 1/hyper_prior[2]\n",
    "    beta_c = hyper_prior[3]\n",
    "    sigma_2_beta = 1/hyper_prior[4]\n",
    "\n",
    "    #Initialisation de la chaine\n",
    "    chain = np.zeros((nchain + 1, nb_rats, 2))\n",
    "    chain[0,:] = init\n",
    "\n",
    "    for t in range(nchain) :\n",
    "        ##Etat actuel\n",
    "        current = chain[t,:,:]\n",
    "\n",
    "        ##Mise à jour des alpha et beta\n",
    "        for i in range(nb_rats) :\n",
    "            ##Mise à jour des alpha_i\n",
    "            mu_alpha_i_tilde = (1/(1/sigma_2_alpha + nb_days/sigma_2_c))*(alpha_c/sigma_2_alpha + (sum([tab[i][j] - current[i,1]*(days[j] - xbar) for j in range(nb_days)])))\n",
    "            sigma_2_alpha_i_tilde = 1/(1/sigma_2_alpha + nb_days/sigma_2_c)\n",
    "\n",
    "            current[i, 0] = np.random.normal(loc = mu_alpha_i_tilde, scale = np.sqrt(sigma_2_alpha_i_tilde))\n",
    "\n",
    "            ##Mise à jour des beta_i\n",
    "            S = sum([(days[j] - xbar)**2 for j in range(nb_days)])\n",
    "            C = sum([(tab[i][j] - current[i,0])*(days[j] - xbar) for j in range(nb_days)])\n",
    "\n",
    "            mu_beta_i_tilde = (C*sigma_2_beta + beta_c*sigma_2_c)/(S*sigma_2_beta + sigma_2_c)\n",
    "            sigma_2_beta_i_tilde = 1/(1/sigma_2_alpha + nb_days/sigma_2_c)\n",
    "\n",
    "            current[i, 1] = np.random.normal(loc = mu_beta_i_tilde, scale = np.sqrt(sigma_2_beta_i_tilde))\n",
    "\n",
    "        chain[t+1,:,:] = current    \n",
    "\n",
    "    return chain"
   ]
  },
  {
   "cell_type": "code",
   "execution_count": 72,
   "metadata": {},
   "outputs": [
    {
     "name": "stdout",
     "output_type": "stream",
     "text": [
      "[[245.03333333   5.        ]\n",
      " [245.03333333   5.        ]\n",
      " [245.03333333   5.        ]\n",
      " [245.03333333   5.        ]\n",
      " [245.03333333   5.        ]\n",
      " [245.03333333   5.        ]\n",
      " [245.03333333   5.        ]\n",
      " [245.03333333   5.        ]\n",
      " [245.03333333   5.        ]\n",
      " [245.03333333   5.        ]\n",
      " [245.03333333   5.        ]\n",
      " [245.03333333   5.        ]\n",
      " [245.03333333   5.        ]\n",
      " [245.03333333   5.        ]\n",
      " [245.03333333   5.        ]\n",
      " [245.03333333   5.        ]\n",
      " [245.03333333   5.        ]\n",
      " [245.03333333   5.        ]\n",
      " [245.03333333   5.        ]\n",
      " [245.03333333   5.        ]\n",
      " [245.03333333   5.        ]\n",
      " [245.03333333   5.        ]\n",
      " [245.03333333   5.        ]\n",
      " [245.03333333   5.        ]\n",
      " [245.03333333   5.        ]\n",
      " [245.03333333   5.        ]\n",
      " [245.03333333   5.        ]\n",
      " [245.03333333   5.        ]\n",
      " [245.03333333   5.        ]\n",
      " [245.03333333   5.        ]]\n"
     ]
    }
   ],
   "source": [
    "nb_rats = data['nb_rats']\n",
    "tab = data[\"tab\"]\n",
    "days = data['days']\n",
    "xbar = data['xbar']\n",
    "nb_days = data['nb_days']\n",
    "\n",
    "hyper_prior = np.array([1, (1/nb_rats)*sum([tab[i][2] for i in range(nb_rats)]), 0.1, 1, 0.1])\n",
    "init = np.array([[(1/nb_rats)*sum([tab[i][2] for i in range(nb_rats)]), 5] for j in range(nb_rats)])\n",
    "\n",
    "chain = rats_Gibbs(1000, data, hyper_prior, init)\n",
    "print(init)"
   ]
  },
  {
   "cell_type": "code",
   "execution_count": 74,
   "metadata": {},
   "outputs": [
    {
     "data": {
      "text/plain": [
       "Text(0, 0.5, 'beta_1')"
      ]
     },
     "execution_count": 74,
     "metadata": {},
     "output_type": "execute_result"
    },
    {
     "data": {
      "image/png": "[encoded data removed]",
      "text/plain": [
       "<Figure size 640x480 with 2 Axes>"
      ]
     },
     "metadata": {},
     "output_type": "display_data"
    }
   ],
   "source": [
    "ylabs = [\"alpha_1\", \"beta_1\"]\n",
    "\n",
    "plt.subplot(1, 2, 1)\n",
    "plt.plot(chain[:,0,0])\n",
    "plt.ylabel(ylabs[0])\n",
    "\n",
    "plt.subplot(1, 2, 2)\n",
    "plt.plot(chain[:,0,1])\n",
    "plt.ylabel(ylabs[1])"
   ]
  }
 ],
 "metadata": {
  "kernelspec": {
   "display_name": "Python 3",
   "language": "python",
   "name": "python3"
  },
  "language_info": {
   "codemirror_mode": {
    "name": "ipython",
    "version": 3
   },
   "file_extension": ".py",
   "mimetype": "text/x-python",
   "name": "python",
   "nbconvert_exporter": "python",
   "pygments_lexer": "ipython3",
   "version": "3.11.9"
  }
 },
 "nbformat": 4,
 "nbformat_minor": 2
}
