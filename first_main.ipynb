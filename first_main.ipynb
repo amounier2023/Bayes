{
 "cells": [
  {
   "cell_type": "code",
   "execution_count": 2,
   "metadata": {},
   "outputs": [],
   "source": [
    "import numpy as np\n",
    "import matplotlib.pyplot as plt\n",
    "\n",
    "import os\n",
    "os.environ['R_HOME'] = r'C:\\Program Files\\R\\R-4.4.3'\n",
    "os.environ['PATH'] += r';C:\\Program Files\\R\\R-4.4.3\\bin'\n",
    "import rpy2.robjects as robjects"
   ]
  },
  {
   "cell_type": "code",
   "execution_count": null,
   "metadata": {},
   "outputs": [
    {
     "name": "stdout",
     "output_type": "stream",
     "text": [
      "Le fichier existe : True\n",
      "[1] 12\n",
      "\n",
      " [1] 11 11 17 22  9  6  5 14  9  7 22 51\n",
      "\n",
      " [1]  6  9 17 22  7  5  5 14  9  7  9 51\n",
      "\n",
      " [1]  5  2  0  0  2  1  0  0  0  0 13  0\n",
      "\n"
     ]
    }
   ],
   "source": [
    "##Importation des données en python##\n",
    "file_path = \"C:\\\\Users\\\\jules\\\\OneDrive\\\\Documents\\\\MathsAppli\\\\PROJET BAYES\\\\Toutes les données\\\\Data\\\\vol2\\\\hearts\\\\hearts.data.R\"\n",
    "# Vérifier le chemin\n",
    "if os.path.exists(file_path):\n",
    "    print(\"Le fichier existe :\", os.path.exists(file_path))\n",
    "else:\n",
    "    print(\"Fichier introuvable :\", os.path.exists(file_path))\n",
    "\n",
    "#Charger et exécuter le script R\n",
    "robjects.r.source(file_path)\n",
    "\n",
    "N = robjects.r['N']\n",
    "t = robjects.r['t']\n",
    "x = robjects.r['x']\n",
    "y = robjects.r['y']\n",
    "\n",
    "print(N)\n",
    "print(t)\n",
    "print(x)\n",
    "print(y)"
   ]
  }
 ],
 "metadata": {
  "kernelspec": {
   "display_name": "Python 3",
   "language": "python",
   "name": "python3"
  },
  "language_info": {
   "codemirror_mode": {
    "name": "ipython",
    "version": 3
   },
   "file_extension": ".py",
   "mimetype": "text/x-python",
   "name": "python",
   "nbconvert_exporter": "python",
   "pygments_lexer": "ipython3",
   "version": "3.11.9"
  }
 },
 "nbformat": 4,
 "nbformat_minor": 2
}
