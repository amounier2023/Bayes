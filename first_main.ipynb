{
 "cells": [
  {
   "cell_type": "code",
   "execution_count": 2,
   "metadata": {},
   "outputs": [],
   "source": [
    "import numpy as np\n",
    "import matplotlib.pyplot as plt\n",
    "\n",
    "import os\n",
    "os.environ['R_HOME'] = r'C:\\Program Files\\R\\R-4.4.3'\n",
    "os.environ['PATH'] += r';C:\\Program Files\\R\\R-4.4.3\\bin'\n",
    "import rpy2.robjects as robjects"
   ]
  },
  {
   "cell_type": "code",
   "execution_count": 35,
   "metadata": {},
   "outputs": [
    {
     "name": "stdout",
     "output_type": "stream",
     "text": [
      "Le fichier existe : True\n",
      "[1] 30\n",
      "\n",
      " [1] 11 11 17 22  9  6  5 14  9  7 22 51\n",
      "\n",
      "[1]  8 15 22 29 36\n",
      "\n",
      "      [,1] [,2] [,3] [,4] [,5]\n",
      " [1,]  151  199  246  283  320\n",
      " [2,]  145  199  249  293  354\n",
      " [3,]  147  214  263  312  328\n",
      " [4,]  155  200  237  272  297\n",
      " [5,]  135  188  230  280  323\n",
      " [6,]  159  210  252  298  331\n",
      " [7,]  141  189  231  275  305\n",
      " [8,]  159  201  248  297  338\n",
      " [9,]  177  236  285  350  376\n",
      "[10,]  134  182  220  260  296\n",
      "[11,]  160  208  261  313  352\n",
      "[12,]  143  188  220  273  314\n",
      "[13,]  154  200  244  289  325\n",
      "[14,]  171  221  270  326  358\n",
      "[15,]  163  216  242  281  312\n",
      "[16,]  160  207  248  288  324\n",
      "[17,]  142  187  234  280  316\n",
      "[18,]  156  203  243  283  317\n",
      "[19,]  157  212  259  307  336\n",
      "[20,]  152  203  246  286  321\n",
      "[21,]  154  205  253  298  334\n",
      "[22,]  139  190  225  267  302\n",
      "[23,]  146  191  229  272  302\n",
      "[24,]  157  211  250  285  323\n",
      "[25,]  132  185  237  286  331\n",
      "[26,]  160  207  257  303  345\n",
      "[27,]  169  216  261  295  333\n",
      "[28,]  157  205  248  289  316\n",
      "[29,]  137  180  219  258  291\n",
      "[30,]  153  200  244  286  324\n",
      "\n",
      "[1] 22\n",
      "\n"
     ]
    }
   ],
   "source": [
    "##Importation des données en python##\n",
    "file_path = \"C:\\\\Users\\\\jules\\\\OneDrive\\\\Documents\\\\MathsAppli\\\\PROJET BAYES\\\\Toutes les données\\\\Data\\\\vol1\\\\rats\\\\rats.data.R\"\n",
    "# Vérifier le chemin\n",
    "if os.path.exists(file_path):\n",
    "    print(\"Le fichier existe :\", os.path.exists(file_path))\n",
    "else:\n",
    "    print(\"Fichier introuvable :\", os.path.exists(file_path))\n",
    "\n",
    "#Charger et exécuter le script R\n",
    "robjects.r.source(file_path)\n",
    "\n",
    "N = robjects.r['N']\n",
    "t = robjects.r['t']\n",
    "x = robjects.r['x']\n",
    "y = robjects.r['y']\n",
    "xbar = robjects.r['xbar']\n",
    "\n",
    "print(N)\n",
    "print(t)\n",
    "print(x)\n",
    "print(y)\n",
    "print(xbar)"
   ]
  },
  {
   "cell_type": "code",
   "execution_count": null,
   "metadata": {},
   "outputs": [],
   "source": []
  }
 ],
 "metadata": {
  "kernelspec": {
   "display_name": "Python 3",
   "language": "python",
   "name": "python3"
  },
  "language_info": {
   "codemirror_mode": {
    "name": "ipython",
    "version": 3
   },
   "file_extension": ".py",
   "mimetype": "text/x-python",
   "name": "python",
   "nbconvert_exporter": "python",
   "pygments_lexer": "ipython3",
   "version": "3.11.9"
  }
 },
 "nbformat": 4,
 "nbformat_minor": 2
}
